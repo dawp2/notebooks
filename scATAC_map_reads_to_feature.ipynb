{
 "cells": [
  {
   "cell_type": "markdown",
   "metadata": {},
   "source": [
    "# Import Packages"
   ]
  },
  {
   "cell_type": "code",
   "execution_count": null,
   "metadata": {},
   "outputs": [],
   "source": [
    "import sys\n",
    "import os\n",
    "import numpy as np\n",
    "import scanpy as sc\n",
    "import pandas as pd\n",
    "import anndata as ad\n",
    "import episcanpy.api as epi\n",
    "from matplotlib import pyplot as plt\n",
    "\n",
    "from wp2.gff_analyser import gffClasses,gffBuilder\n",
    "\n",
    "# modules from sctoolbox\n",
    "from sctoolbox import annotation\n",
    "import sctoolbox.atac as atac\n",
    "import sctoolbox.calc_overlap_pct as overlap\n",
    "from sctoolbox import celltype_annotation"
   ]
  },
  {
   "cell_type": "markdown",
   "metadata": {},
   "source": [
    "## Set environmental variables"
   ]
  },
  {
   "cell_type": "code",
   "execution_count": null,
   "metadata": {},
   "outputs": [],
   "source": [
    "GTF_PATH = 'homo_sapiens.104.mainChr.gtf'  # gtf file to use for peaks annotation\n",
    "#INPUT_PATH = '/home/rstudio/data/anndata'  # path where the h5ad object is saved\n",
    "WORKING_DIR = '/mnt/workspace_stud/catlas_ref/'\n",
    "INPUT = WORKING_DIR + 'cellXcCRE/'\n",
    "OUTPUT_PATH = '/home/rstudio/testdata'  # path where processed adata file can be save\n",
    "FRAG_FILE = '/home/stud2/test/frag_sorted.bed'\n",
    "#FRAG_FILE = '/mnt/workspace_stud/catlas_ref/frag/colon_sigmoid_SM-AZPYO_rep1_fragments.bed.gz'  # path to fragments file\n",
    "BAM_FILE = '/mnt/workspace_stud/jdetlef/ENC-1JKYN-191-SM-JF1O8_snATAC_colon_sigmoid_Rep1.bam'  # path to bam file\n",
    "H5AD = 'stomach_SM-JF1O3.h5ad'\n",
    "#H5AD = 'ENC-1JKYN-146-SM-A8CPH_snATAC_esophagus_muscularis_mucosa_Rep1.h5ad'  # name of the h5ad file"
   ]
  },
  {
   "cell_type": "markdown",
   "metadata": {},
   "source": [
    "## Import H5AD file"
   ]
  },
  {
   "cell_type": "code",
   "execution_count": null,
   "metadata": {},
   "outputs": [],
   "source": [
    "adata = epi.read_h5ad(INPUT + H5AD)\n",
    "adata"
   ]
  },
  {
   "cell_type": "markdown",
   "metadata": {},
   "source": [
    "## Generate GFF files"
   ]
  },
  {
   "cell_type": "code",
   "execution_count": null,
   "metadata": {
    "scrolled": false
   },
   "outputs": [],
   "source": [
    "object_list = gffBuilder.build_gff3_class(file=GTF_PATH)\n",
    "\n",
    "for element in object_list:\n",
    "    features = element.count_features()\n",
    "    element.generate_feature_gtf(Gffdata_list=object_list, feature_keys=features)"
   ]
  },
  {
   "cell_type": "markdown",
   "metadata": {},
   "source": [
    "### Prepare Var_names"
   ]
  },
  {
   "cell_type": "code",
   "execution_count": null,
   "metadata": {},
   "outputs": [],
   "source": [
    "names = []\n",
    "for name in adata.var_names:\n",
    "   names.append(name)\n",
    "\n",
    "for i, n in enumerate(names):\n",
    "   tmp = names[i].replace(':', '_')\n",
    "   tmp = tmp.replace('-', '_')\n",
    "   tmp = tmp.split('_')\n",
    "   names[i] = '_'.join([tmp[0], tmp[-2], tmp[-1]])\n",
    "\n",
    "adata.var_names = pd.Index(names)"
   ]
  },
  {
   "cell_type": "markdown",
   "metadata": {},
   "source": [
    "### Prepare obs_names"
   ]
  },
  {
   "cell_type": "code",
   "execution_count": 4,
   "metadata": {},
   "outputs": [
    {
     "ename": "NameError",
     "evalue": "name 'adata' is not defined",
     "output_type": "error",
     "traceback": [
      "\u001b[0;31m---------------------------------------------------------------------------\u001b[0m",
      "\u001b[0;31mNameError\u001b[0m                                 Traceback (most recent call last)",
      "Cell \u001b[0;32mIn [4], line 2\u001b[0m\n\u001b[1;32m      1\u001b[0m names \u001b[38;5;241m=\u001b[39m []\n\u001b[0;32m----> 2\u001b[0m \u001b[38;5;28;01mfor\u001b[39;00m name \u001b[38;5;129;01min\u001b[39;00m \u001b[43madata\u001b[49m\u001b[38;5;241m.\u001b[39mobs_names:\n\u001b[1;32m      3\u001b[0m    names\u001b[38;5;241m.\u001b[39mappend(name)\n\u001b[1;32m      5\u001b[0m \u001b[38;5;28;01mfor\u001b[39;00m i, n \u001b[38;5;129;01min\u001b[39;00m \u001b[38;5;28menumerate\u001b[39m(names): \u001b[38;5;66;03m# colon_sigmoid_SM-JF1O8_1+\u001b[39;00m\n",
      "\u001b[0;31mNameError\u001b[0m: name 'adata' is not defined"
     ]
    }
   ],
   "source": [
    "names = []\n",
    "for name in adata.obs_names:\n",
    "   names.append(name)\n",
    "\n",
    "for i, n in enumerate(names): # colon_sigmoid_SM-JF1O8_1+\n",
    "    tmp = names[i].split('+')\n",
    "    names[i] = tmp[-1]\n",
    "\n",
    "adata.obs_names = pd.Index(names, name='index')"
   ]
  },
  {
   "cell_type": "markdown",
   "metadata": {},
   "source": [
    "### Calculate Overlap"
   ]
  },
  {
   "cell_type": "code",
   "execution_count": null,
   "metadata": {},
   "outputs": [],
   "source": [
    "overlap.pct_fragments_in_promoters(adata, input_dir='out/', fragments_file=FRAG_FILE, bam_file=None, cb_col=None, species=None)"
   ]
  },
  {
   "cell_type": "markdown",
   "metadata": {},
   "source": [
    "## Initial Violin Plots"
   ]
  },
  {
   "cell_type": "code",
   "execution_count": 6,
   "metadata": {},
   "outputs": [
    {
     "ename": "NameError",
     "evalue": "name 'epi' is not defined",
     "output_type": "error",
     "traceback": [
      "\u001b[0;31m---------------------------------------------------------------------------\u001b[0m",
      "\u001b[0;31mNameError\u001b[0m                                 Traceback (most recent call last)",
      "Cell \u001b[0;32mIn [6], line 1\u001b[0m\n\u001b[0;32m----> 1\u001b[0m \u001b[43mepi\u001b[49m\u001b[38;5;241m.\u001b[39mpl\u001b[38;5;241m.\u001b[39mviolin(adata, [\u001b[38;5;124m'\u001b[39m\u001b[38;5;124mn_total_fragments\u001b[39m\u001b[38;5;124m'\u001b[39m])\n\u001b[1;32m      2\u001b[0m epi\u001b[38;5;241m.\u001b[39mpl\u001b[38;5;241m.\u001b[39mviolin(adata, [\u001b[38;5;124m'\u001b[39m\u001b[38;5;124mn_fragments_in_promoters\u001b[39m\u001b[38;5;124m'\u001b[39m])\n\u001b[1;32m      3\u001b[0m epi\u001b[38;5;241m.\u001b[39mpl\u001b[38;5;241m.\u001b[39mviolin(adata, [\u001b[38;5;124m'\u001b[39m\u001b[38;5;124mpct_fragments_in_promoters\u001b[39m\u001b[38;5;124m'\u001b[39m])\n",
      "\u001b[0;31mNameError\u001b[0m: name 'epi' is not defined"
     ]
    }
   ],
   "source": [
    "epi.pl.violin(adata, ['n_total_fragments'])\n",
    "epi.pl.violin(adata, ['n_fragments_in_promoters'])\n",
    "epi.pl.violin(adata, ['pct_fragments_in_promoters'])"
   ]
  },
  {
   "cell_type": "code",
   "execution_count": 8,
   "metadata": {},
   "outputs": [],
   "source": [
    "## Lowpass filter"
   ]
  },
  {
   "cell_type": "code",
   "execution_count": null,
   "metadata": {},
   "outputs": [],
   "source": []
  }
 ],
 "metadata": {
  "kernelspec": {
   "display_name": "SCToolBox 2",
   "language": "python",
   "name": "sctoolbox2"
  },
  "language_info": {
   "codemirror_mode": {
    "name": "ipython",
    "version": 3
   },
   "file_extension": ".py",
   "mimetype": "text/x-python",
   "name": "python",
   "nbconvert_exporter": "python",
   "pygments_lexer": "ipython3",
   "version": "3.9.0"
  },
  "vscode": {
   "interpreter": {
    "hash": "916dbcbb3f70747c44a77c7bcd40155683ae19c65e1c03b4aa3499c5328201f1"
   }
  }
 },
 "nbformat": 4,
 "nbformat_minor": 2
}
