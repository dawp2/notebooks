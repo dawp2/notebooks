{
 "cells": [
  {
   "cell_type": "code",
   "execution_count": null,
   "id": "dfff02f1",
   "metadata": {},
   "outputs": [],
   "source": [
    "from gff_analyser import gffClasses, gffBuilder\n",
    "import hdf5plugin\n",
    "from pybedtools import BedTool\n",
    "import os\n",
    "import sys\n",
    "import pandas as pd"
   ]
  },
  {
   "cell_type": "code",
   "execution_count": null,
   "id": "e8c7e6a4",
   "metadata": {},
   "outputs": [],
   "source": [
    "GTF_PATH = '/home/stud3/notebooks/homo_sapiens.104.mainChr.gtf'\n",
    "gtf_gene= '/home/stud3/notebooks/out/homo_sapiens.104.mainChr.gene.gtf'\n",
    "gtf_exon = '/home/stud3/notebooks/out/homo_sapiens.104.mainChr.exon.gtf'\n",
    "five = '/home/stud3/notebooks/out/homo_sapiens.104.mainChr.five_prime_utr.gtf'\n",
    "three = '/home/stud3/notebooks/out/homo_sapiens.104.mainChr.three_prime_utr.gtf'\n",
    "frag = '/home/stud3/notebooks/stomach_SM-JF1O3_rep1_fragments_sorted.bed'\n"
   ]
  },
  {
   "cell_type": "code",
   "execution_count": null,
   "id": "62bbfaec",
   "metadata": {},
   "outputs": [],
   "source": [
    "object_list = gffBuilder.build_gff3_class(file=GTF_PATH)\n",
    "\n",
    "for element in object_list:\n",
    "    features = element.count_features()\n",
    "\n",
    "    element.generate_feature_gtf(gffdata_list=object_list, feature_keys=features)\n",
    "    element.generate_promotor_gtf(gffdata_list=object_list)\n",
    "    element.generate_tss_gtf(gffdata_list=object_list)"
   ]
  },
  {
   "cell_type": "code",
   "execution_count": null,
   "id": "afeb1b4a",
   "metadata": {},
   "outputs": [],
   "source": [
    "# Getting the gene body from gene\n",
    "bedtools = os.path.join('/'.join(sys.executable.split('/')[:-1]),'bedtools')\n",
    "intersect_cmd = f'{bedtools} subtract -a {gtf_gene} -b {five} {three}  > out/homo_sapiens.104.mainChr.gene.gene_bodies.gtf'\n",
    "os.system(intersect_cmd)"
   ]
  },
  {
   "cell_type": "code",
   "execution_count": null,
   "id": "f57c3d3f",
   "metadata": {},
   "outputs": [],
   "source": [
    "# Getting the gene body from exon\n",
    "bedtools = os.path.join('/'.join(sys.executable.split('/')[:-1]),'bedtools')\n",
    "intersect_cmd = f'{bedtools} subtract -a {gtf_exon} -b {five} {three}  > out/homo_sapiens.104.mainChr.exon_gene_bodies.gtf'\n",
    "os.system(intersect_cmd)"
   ]
  },
  {
   "cell_type": "code",
   "execution_count": null,
   "id": "cc515655",
   "metadata": {},
   "outputs": [],
   "source": [
    "# Getting the enhancer from gtf reference\n",
    "bedtools = os.path.join('/'.join(sys.executable.split('/')[:-1]),'bedtools')\n",
    "intersect_cmd = f'{bedtools} intersect -a {gtf_gene} -b stomach_SM.enhancer.bed -wa -wb > out/homo_sapiens.104.mainChr.enhancer.gtf'\n",
    "os.system(intersect_cmd)"
   ]
  },
  {
   "cell_type": "code",
   "execution_count": null,
   "id": "7da39de5",
   "metadata": {},
   "outputs": [],
   "source": []
  },
  {
   "cell_type": "code",
   "execution_count": null,
   "id": "1de9ffc7",
   "metadata": {},
   "outputs": [],
   "source": [
    "bed_df = pd.read_table(frag, header=None, names=[\"chrom\", \"start\", \"end\", \"feature\", \"count\", \"strand\"])\n",
    "\n",
    "# Filter the dataframe based on a count threshold\n",
    "threshold = 10\n",
    "filtered_df = bed_df[bed_df[\"count\"] > threshold]\n"
   ]
  },
  {
   "cell_type": "code",
   "execution_count": null,
   "id": "132c9f3b",
   "metadata": {},
   "outputs": [],
   "source": [
    "print(filtered_df)"
   ]
  },
  {
   "cell_type": "code",
   "execution_count": null,
   "id": "bd45a608",
   "metadata": {},
   "outputs": [],
   "source": [
    "def filter_peaks_from_bed(frag_file=frag ,thres=10):\n",
    "\n",
    "    # Load the bed file into a pandas dataframe\n",
    "    bed_df = pd.read_table(frag_file, header=None, names=[\"chrom\", \"start\", \"end\", \"feature\", \"count\", \"strand\"])\n",
    "\n",
    "    # Filter the dataframe based on a count threshold\n",
    "    threshold = thres\n",
    "    filtered_df = bed_df[bed_df[\"count\"] > threshold]\n",
    "    \n",
    "    filename = f\"{frag}.peak{thres}.bed\"\n",
    "    # Print the filtered dataframe\n",
    "    filtered_df.to_csv(filename ,sep='\\t', index=None)\n",
    "    return thres\n"
   ]
  },
  {
   "cell_type": "code",
   "execution_count": null,
   "id": "5c5f8be3",
   "metadata": {},
   "outputs": [],
   "source": [
    "tresh = filter_peaks_from_bed()"
   ]
  },
  {
   "cell_type": "code",
   "execution_count": null,
   "id": "c19ef6b3",
   "metadata": {},
   "outputs": [],
   "source": [
    "peakfile = 'stomach_SM-JF1O3_rep1_fragments_sorted.bed.peak10.bed'"
   ]
  },
  {
   "cell_type": "code",
   "execution_count": null,
   "id": "f9fcbf98",
   "metadata": {},
   "outputs": [],
   "source": [
    "# Getting the gene body from exon\n",
    "bedtools = os.path.join('/'.join(sys.executable.split('/')[:-1]),'bedtools')\n",
    "intersect_cmd = f'{bedtools} intersect -a {GTF_PATH} -b {peakfile} -wa -wb > out/homo_sapiens.104.mainChr.peak{tresh}.gtf'\n",
    "os.system(intersect_cmd)"
   ]
  },
  {
   "cell_type": "code",
   "execution_count": null,
   "id": "c14c47c3",
   "metadata": {},
   "outputs": [],
   "source": []
  }
 ],
 "metadata": {
  "kernelspec": {
   "display_name": "sctoolbox",
   "language": "python",
   "name": "sctoolbox"
  },
  "language_info": {
   "codemirror_mode": {
    "name": "ipython",
    "version": 3
   },
   "file_extension": ".py",
   "mimetype": "text/x-python",
   "name": "python",
   "nbconvert_exporter": "python",
   "pygments_lexer": "ipython3",
   "version": "3.9.15"
  }
 },
 "nbformat": 4,
 "nbformat_minor": 5
}
